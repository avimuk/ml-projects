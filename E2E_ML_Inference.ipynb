{
  "nbformat": 4,
  "nbformat_minor": 0,
  "metadata": {
    "colab": {
      "provenance": [],
      "include_colab_link": true
    },
    "kernelspec": {
      "name": "python3",
      "display_name": "Python 3"
    },
    "language_info": {
      "name": "python"
    }
  },
  "cells": [
    {
      "cell_type": "markdown",
      "metadata": {
        "id": "view-in-github",
        "colab_type": "text"
      },
      "source": [
        "<a href=\"https://colab.research.google.com/github/avimuk/ml-projects/blob/master/E2E_ML_Inference.ipynb\" target=\"_parent\"><img src=\"https://colab.research.google.com/assets/colab-badge.svg\" alt=\"Open In Colab\"/></a>"
      ]
    },
    {
      "cell_type": "markdown",
      "source": [
        "# Reference\n",
        "\n",
        "https://www.kdnuggets.com/step-by-step-tutorial-to-building-your-first-machine-learning-model\n",
        "\n",
        "* Features: Input variables used to make predictions in a machine learning model.\n",
        "* Labels: Output variables that the model is trying to predict.\n",
        "* Data Splitting: The process of data separation into different sets.\n",
        "* Training Set: Data used to train the machine learning model.\n",
        "* Test Set: Data used to evaluate the performance of the trained model.\n",
        "* Validation Set: Data use used during the training process to tune hyperparameters\n",
        "* Exploratory Data Analysis (EDA): The process of analyzing and visualizing datasets to summarize their information and discover patterns.\n",
        "* Models: The outcome of the Machine Learning process. They are the mathematical representation of the patterns and relationships within the data.\n",
        "* Overfitting: Occurs when the model is generalized too well and learns the data noise. The model can predict well in the training but not in the test set.\n",
        "* Underfitting: When a model is too simple to capture the underlying patterns in the data. The model performance in training and test sets could be better.\n",
        "* Hyperparameters: Configuration settings are used to tune the model and are set before training begins.\n",
        "* Cross-validation: a technique for evaluating the model by partitioning the original sample into training and validation sets multiple times.\n",
        "* Feature Engineering: Using domain knowledge to get new features from raw data.\n",
        "* Model Training: The process of learning the parameters of a model using the training data.\n",
        "* Model Evaluation: Assessing the performance of a trained model using machine learning metrics like accuracy, precision, and recall.\n",
        "* Model Deployment: Making a trained model available in a production environment."
      ],
      "metadata": {
        "id": "o2NQWej__9Vz"
      }
    },
    {
      "cell_type": "markdown",
      "source": [
        "# Business Usecase\n",
        "\n",
        "The business needs to avoid further churn from the company and wants to take action for the customer with a high probability of churning.\n",
        "\n",
        "With the above business requirements, we need specific metrics to measure whether the model performs well. There are many measurements, but we will use the Recall metric.In monetary values, it might be more beneficial to use Recall, as it tries to minimize the False Negative or decrease the amount of prediction that was not churning while it’s churning. Of course, we can try to aim for balance by using the F1 metric."
      ],
      "metadata": {
        "id": "IkYEB6DLAlub"
      }
    },
    {
      "cell_type": "markdown",
      "source": [
        "# EDA"
      ],
      "metadata": {
        "id": "_q8VUVW540nL"
      }
    },
    {
      "cell_type": "markdown",
      "source": [
        "**Data Load**"
      ],
      "metadata": {
        "id": "vFbgoj2_8iKG"
      }
    },
    {
      "cell_type": "code",
      "source": [
        "import pandas as pd\n",
        "\n",
        "df = pd.read_csv('/content/sample_data/WA_Fn-UseC_-Telco-Customer-Churn.csv.xls')\n",
        "df.head()"
      ],
      "metadata": {
        "id": "-I33ZfexdGWK"
      },
      "execution_count": null,
      "outputs": []
    },
    {
      "cell_type": "markdown",
      "source": [
        "**Data Analysis**"
      ],
      "metadata": {
        "id": "f7IYT7Hg-BIk"
      }
    },
    {
      "cell_type": "code",
      "source": [
        "# Get the basic information about the dataset\n",
        "df.info()"
      ],
      "metadata": {
        "id": "vm7BzUQ_-F98"
      },
      "execution_count": null,
      "outputs": []
    },
    {
      "cell_type": "code",
      "source": [
        "# Get the numerical summary statistics of the dataset\n",
        "df.describe()"
      ],
      "metadata": {
        "id": "hyhvbf2piSDO"
      },
      "execution_count": null,
      "outputs": []
    },
    {
      "cell_type": "code",
      "source": [
        "# Get the categorical summary statistics of the dataset\n",
        "df.describe(exclude = 'number')"
      ],
      "metadata": {
        "id": "6084ClZtk7nx"
      },
      "execution_count": null,
      "outputs": []
    },
    {
      "cell_type": "code",
      "source": [
        "# Check for missing values\n",
        "print(df.isnull().sum())"
      ],
      "metadata": {
        "id": "IntSg4KGlmu2"
      },
      "execution_count": null,
      "outputs": []
    },
    {
      "cell_type": "code",
      "source": [
        "# Check for target variable imbalance\n",
        "print(df['Churn'].value_counts())"
      ],
      "metadata": {
        "id": "pK10k-skmUBZ"
      },
      "execution_count": null,
      "outputs": []
    },
    {
      "cell_type": "markdown",
      "source": [
        "Initial Data Analysis summary:\n",
        "\n",
        "* The dataset contains 7043 rows and most of the columns are categorical.\n",
        "\n",
        "* Out of 21 columns, we have total 19 features or independent variable and 1 target variable Churn. Customer id is too unique, so not considered.\n",
        "\n",
        "* Our dataset does not contain missing data, so we don’t need to perform any missing data treatment activity.\n",
        "\n",
        "* There is a slight imbalance for target variable Churn, as only close to 25% of the churn occurs compared to the non-churn cases.\n",
        "\n",
        "\n"
      ],
      "metadata": {
        "id": "wb8-9kJAlpER"
      }
    },
    {
      "cell_type": "markdown",
      "source": [
        "**Feature analysis in details**"
      ],
      "metadata": {
        "id": "DUL-aquvo1_w"
      }
    },
    {
      "cell_type": "markdown",
      "source": [
        "Data Cleaning & Transformation"
      ],
      "metadata": {
        "id": "jSN1tVIkQWHO"
      }
    },
    {
      "cell_type": "code",
      "source": [
        "#transform the TotalCharges feature into a numerical column\n",
        "import numpy as np\n",
        "df['TotalCharges'] = df['TotalCharges'].replace('', np.nan)\n",
        "df['TotalCharges'] = pd.to_numeric(df['TotalCharges'], errors='coerce').fillna(0)\n",
        "\n",
        "#SeniorCitizen feature should be categorical so that I would transform it into strings\n",
        "df['SeniorCitizen'] = df['SeniorCitizen'].astype('str')\n",
        "\n",
        "#Churn feature is categorical, we would develop new features that show it as a numerical column\n",
        "df['ChurnTarget'] = df['Churn'].apply(lambda x: 1 if x=='Yes' else 0)"
      ],
      "metadata": {
        "id": "iJ1EZi2bQZ3v"
      },
      "execution_count": 11,
      "outputs": []
    },
    {
      "cell_type": "markdown",
      "source": [
        "Check the distribution of the numerical features"
      ],
      "metadata": {
        "id": "mU8vZP1jR01X"
      }
    },
    {
      "cell_type": "code",
      "source": [
        "# Plot distribution of numearical features\n",
        "\n",
        "num_features = df.select_dtypes('number').columns\n",
        "df[num_features].hist(bins=15, figsize=(15, 6), layout=(2, 5))"
      ],
      "metadata": {
        "id": "tjnrEpWuR4I7"
      },
      "execution_count": null,
      "outputs": []
    },
    {
      "cell_type": "markdown",
      "source": [
        "Check the distribution of the categorical features\n"
      ],
      "metadata": {
        "id": "s28re8sHSLD4"
      }
    },
    {
      "cell_type": "code",
      "source": [
        "import matplotlib.pyplot as plt\n",
        "\n",
        "# Plot distribution of categorical features\n",
        "cat_features = df.drop('customerID', axis =1).select_dtypes(include='object').columns\n",
        "\n",
        "plt.figure(figsize=(10, 10))\n",
        "for i, col in enumerate(cat_features, 1):\n",
        "    plt.subplot(5, 4, i)\n",
        "    df[col].value_counts().plot(kind='bar')\n",
        "    plt.title(col)"
      ],
      "metadata": {
        "id": "L_DnAfGTSNSl"
      },
      "execution_count": null,
      "outputs": []
    },
    {
      "cell_type": "markdown",
      "source": [
        "Check correlation for numerical features\n",
        "Ref: https://en.wikipedia.org/wiki/Pearson_correlation_coefficient"
      ],
      "metadata": {
        "id": "3jQBzUvpTdUY"
      }
    },
    {
      "cell_type": "code",
      "source": [
        "import seaborn as sns\n",
        "\n",
        "# Plot correlations between numerical features\n",
        "plt.figure(figsize=(10, 8))\n",
        "sns.heatmap(df[num_features].corr())\n",
        "plt.title('Correlation Heatmap')"
      ],
      "metadata": {
        "id": "iMju1xzqTnS5"
      },
      "execution_count": null,
      "outputs": []
    },
    {
      "cell_type": "markdown",
      "source": [
        "Check correlation for categorical features Ref: https://en.wikipedia.org/wiki/Cram%C3%A9r%27s_V"
      ],
      "metadata": {
        "id": "mrOJiyYmT7wW"
      }
    },
    {
      "cell_type": "code",
      "source": [
        "pip install dython"
      ],
      "metadata": {
        "id": "90o_S5s6UXbt"
      },
      "execution_count": null,
      "outputs": []
    },
    {
      "cell_type": "code",
      "source": [
        "from dython.nominal import associations\n",
        "\n",
        "# Calculate the Cramer’s V and correlation matrix\n",
        "assoc = associations(df[cat_features], nominal_columns='all', plot=False)\n",
        "corr_matrix = assoc['corr']\n",
        "\n",
        "# Plot the heatmap\n",
        "plt.figure(figsize=(14, 12))\n",
        "sns.heatmap(corr_matrix)"
      ],
      "metadata": {
        "id": "-J9uA967UETv"
      },
      "execution_count": null,
      "outputs": []
    },
    {
      "cell_type": "markdown",
      "source": [
        " Check the numerical outlier with a box plot based on the Interquartile Range (IQR)."
      ],
      "metadata": {
        "id": "ld6FI68RU6TB"
      }
    },
    {
      "cell_type": "code",
      "source": [
        "# Plot box plots to identify outliers\n",
        "plt.figure(figsize=(20, 15))\n",
        "for i, col in enumerate(num_features, 1):\n",
        "    plt.subplot(4, 4, i)\n",
        "    sns.boxplot(y=df[col])\n",
        "    plt.title(col)"
      ],
      "metadata": {
        "colab": {
          "base_uri": "https://localhost:8080/",
          "height": 252
        },
        "id": "ODWLfxebU-Jo",
        "outputId": "31f33b66-683a-40b6-b317-ab30918eaf32"
      },
      "execution_count": 24,
      "outputs": [
        {
          "output_type": "display_data",
          "data": {
            "text/plain": [
              "<Figure size 2000x1500 with 4 Axes>"
            ],
            "image/png": "[encoded data removed]"
          },
          "metadata": {}
        }
      ]
    },
    {
      "cell_type": "markdown",
      "source": [
        "# Feature Selection\n",
        "\n",
        "Usually done by combining business knowledge and technical application.\n",
        "To keep it simple will only use the correlation analysis we have done previously to make the feature selection."
      ],
      "metadata": {
        "id": "I9TONq8aVrlK"
      }
    },
    {
      "cell_type": "markdown",
      "source": [
        "Numeric correlation analysis"
      ],
      "metadata": {
        "id": "JEJpHX5kWiva"
      }
    },
    {
      "cell_type": "code",
      "source": [
        "target = 'ChurnTarget'\n",
        "num_features = df.select_dtypes(include=[np.number]).columns.drop(target)\n",
        "\n",
        "# Calculate correlations\n",
        "correlations = df[num_features].corrwith(df[target])\n",
        "\n",
        "# Set a threshold for feature selection\n",
        "threshold = 0.3\n",
        "\n",
        "# Choose features more than the threshold\n",
        "\n",
        "selected_num_features = correlations[abs(correlations) > threshold].index.tolist()\n"
      ],
      "metadata": {
        "id": "9k4bm-OKV15M"
      },
      "execution_count": 25,
      "outputs": []
    },
    {
      "cell_type": "markdown",
      "source": [
        "Categorical correlation analysis"
      ],
      "metadata": {
        "id": "D277G8ZgXMPq"
      }
    },
    {
      "cell_type": "code",
      "source": [
        "categorical_target = 'Churn'\n",
        "\n",
        "# Calculate correlations\n",
        "assoc = associations(df[cat_features], nominal_columns='all', plot=False)\n",
        "corr_matrix = assoc['corr']\n",
        "\n",
        "# Set a threshold for feature selection\n",
        "threshold = 0.3\n",
        "\n",
        "# Choose features more than the threshold\n",
        "selected_cat_features = corr_matrix[corr_matrix.loc[categorical_target] > threshold ].index.tolist()\n",
        "\n",
        "# Remove target from the list\n",
        "del selected_cat_features[-1]"
      ],
      "metadata": {
        "id": "UYKJnA_GXLli"
      },
      "execution_count": null,
      "outputs": []
    },
    {
      "cell_type": "markdown",
      "source": [
        "Combine the features"
      ],
      "metadata": {
        "id": "pEbB3v4SX0g6"
      }
    },
    {
      "cell_type": "code",
      "source": [
        "selected_features = []\n",
        "selected_features.extend(selected_num_features)\n",
        "selected_features.extend(selected_cat_features)\n",
        "\n",
        "print(selected_features)"
      ],
      "metadata": {
        "colab": {
          "base_uri": "https://localhost:8080/"
        },
        "id": "8uHwPfeGX2fN",
        "outputId": "03960212-ac25-4d9d-b85d-775fe477917d"
      },
      "execution_count": 29,
      "outputs": [
        {
          "output_type": "stream",
          "name": "stdout",
          "text": [
            "['tenure', 'InternetService', 'OnlineSecurity', 'TechSupport', 'Contract', 'PaymentMethod']\n"
          ]
        }
      ]
    }
  ]
}